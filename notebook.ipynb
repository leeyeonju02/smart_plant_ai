{
 "cells": [
  {
   "cell_type": "code",
   "execution_count": 1,
   "metadata": {},
   "outputs": [
    {
     "name": "stdout",
     "output_type": "stream",
     "text": [
      "mps 사용 가능 여부: True\n",
      "mps 지원 환경 여부: True\n",
      "tensor([1.], device='mps:0')\n"
     ]
    }
   ],
   "source": [
    "import torch\n",
    "\n",
    "print(f\"mps 사용 가능 여부: {torch.backends.mps.is_available()}\")\n",
    "print(f\"mps 지원 환경 여부: {torch.backends.mps.is_built()}\")\n",
    "\n",
    "if torch.backends.mps.is_available():\n",
    "    mps_device = torch.device(\"mps\")\n",
    "    x = torch.ones(1, device=mps_device)\n",
    "    print (x)\n",
    "else:\n",
    "    print (\"MPS device not found.\")"
   ]
  },
  {
   "cell_type": "code",
   "execution_count": 2,
   "metadata": {},
   "outputs": [
    {
     "name": "stdout",
     "output_type": "stream",
     "text": [
      "CPU에서의 연산 시간: 4.307265043258667초\n",
      "MPS(GPU)에서의 연산 시간: 0.14103007316589355초\n"
     ]
    }
   ],
   "source": [
    "import torch\n",
    "import time\n",
    "\n",
    "# CPU에서의 연산 시간 측정\n",
    "start_cpu = time.time()\n",
    "tensor_cpu = torch.randn(10000, 10000)\n",
    "result_cpu = tensor_cpu @ tensor_cpu\n",
    "end_cpu = time.time()\n",
    "print(f\"CPU에서의 연산 시간: {end_cpu - start_cpu}초\")\n",
    "\n",
    "# MPS(GPU)에서의 연산 시간 측정\n",
    "if torch.backends.mps.is_available():\n",
    "    start_mps = time.time()\n",
    "    tensor_mps = torch.randn(10000, 10000, device=\"mps\")\n",
    "    result_mps = tensor_mps @ tensor_mps\n",
    "    end_mps = time.time()\n",
    "    print(f\"MPS(GPU)에서의 연산 시간: {end_mps - start_mps}초\")\n",
    "else:\n",
    "    print(\"MPS(GPU) 사용 가능한 환경이 아닙니다.\")"
   ]
  },
  {
   "cell_type": "code",
   "execution_count": null,
   "metadata": {},
   "outputs": [],
   "source": []
  }
 ],
 "metadata": {
  "kernelspec": {
   "display_name": "env",
   "language": "python",
   "name": "python3"
  },
  "language_info": {
   "codemirror_mode": {
    "name": "ipython",
    "version": 3
   },
   "file_extension": ".py",
   "mimetype": "text/x-python",
   "name": "python",
   "nbconvert_exporter": "python",
   "pygments_lexer": "ipython3",
   "version": "3.11.5"
  },
  "orig_nbformat": 4
 },
 "nbformat": 4,
 "nbformat_minor": 2
}
