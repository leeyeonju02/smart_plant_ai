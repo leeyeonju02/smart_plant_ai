{
 "cells": [
  {
   "cell_type": "code",
   "execution_count": 9,
   "metadata": {},
   "outputs": [
    {
     "name": "stdout",
     "output_type": "stream",
     "text": [
      " * Serving Flask app '__main__'\n",
      " * Debug mode: on\n"
     ]
    },
    {
     "name": "stderr",
     "output_type": "stream",
     "text": [
      "WARNING: This is a development server. Do not use it in a production deployment. Use a production WSGI server instead.\n",
      " * Running on all addresses (0.0.0.0)\n",
      " * Running on http://127.0.0.1:5002\n",
      " * Running on http://192.168.39.169:5002\n",
      "Press CTRL+C to quit\n",
      " * Restarting with watchdog (fsevents)\n",
      "Traceback (most recent call last):\n",
      "  File \"/Users/leeyeonju/anaconda3/lib/python3.11/site-packages/ipykernel_launcher.py\", line 15, in <module>\n",
      "    from ipykernel import kernelapp as app\n",
      "  File \"/Users/leeyeonju/anaconda3/lib/python3.11/site-packages/ipykernel/__init__.py\", line 5, in <module>\n",
      "    from .connect import *  # noqa\n",
      "    ^^^^^^^^^^^^^^^^^^^^^^\n",
      "  File \"/Users/leeyeonju/anaconda3/lib/python3.11/site-packages/ipykernel/connect.py\", line 11, in <module>\n",
      "    import jupyter_client\n",
      "  File \"/Users/leeyeonju/anaconda3/lib/python3.11/site-packages/jupyter_client/__init__.py\", line 3, in <module>\n",
      "    from .asynchronous import AsyncKernelClient\n",
      "  File \"/Users/leeyeonju/anaconda3/lib/python3.11/site-packages/jupyter_client/asynchronous/__init__.py\", line 1, in <module>\n",
      "    from .client import AsyncKernelClient  # noqa\n",
      "    ^^^^^^^^^^^^^^^^^^^^^^^^^^^^^^^^^^^^^\n",
      "  File \"/Users/leeyeonju/anaconda3/lib/python3.11/site-packages/jupyter_client/asynchronous/client.py\", line 6, in <module>\n",
      "    from traitlets import Instance, Type\n",
      "  File \"/Users/leeyeonju/anaconda3/lib/python3.11/site-packages/traitlets/__init__.py\", line 6, in <module>\n",
      "    from . import traitlets\n",
      "  File \"/Users/leeyeonju/anaconda3/lib/python3.11/site-packages/traitlets/traitlets.py\", line 54, in <module>\n",
      "    from .utils.bunch import Bunch\n",
      "  File \"/Users/leeyeonju/anaconda3/lib/python3.11/site-packages/traitlets/utils/__init__.py\", line 4, in <module>\n",
      "    import pathlib\n",
      "  File \"/Users/leeyeonju/anaconda3/lib/python3.11/site-packages/pathlib.py\", line 10, in <module>\n",
      "    from collections import Sequence\n",
      "ImportError: cannot import name 'Sequence' from 'collections' (/Users/leeyeonju/anaconda3/lib/python3.11/collections/__init__.py)\n"
     ]
    },
    {
     "ename": "SystemExit",
     "evalue": "1",
     "output_type": "error",
     "traceback": [
      "An exception has occurred, use %tb to see the full traceback.\n",
      "\u001b[0;31mSystemExit\u001b[0m\u001b[0;31m:\u001b[0m 1\n"
     ]
    },
    {
     "name": "stderr",
     "output_type": "stream",
     "text": [
      "/Users/leeyeonju/anaconda3/lib/python3.11/site-packages/IPython/core/interactiveshell.py:3534: UserWarning: To exit: use 'exit', 'quit', or Ctrl-D.\n",
      "  warn(\"To exit: use 'exit', 'quit', or Ctrl-D.\", stacklevel=1)\n"
     ]
    }
   ],
   "source": [
    "from flask import Flask, request, jsonify\n",
    "from flask_cors import CORS\n",
    "import subprocess\n",
    "\n",
    "\n",
    "app = Flask(__name__)\n",
    "CORS(app)\n",
    "\n",
    "#AI 답변 함수\n",
    "def AiAnswer(chatData):\n",
    "  \n",
    "    question = chatData.get(\"message\")\n",
    "    print(\"질문추출값: \", question)\n",
    "    humidity = int(chatData.get(\"plantData\").get(\"content\").get(\"plantHistory\").get(\"humidity\"))\n",
    "    #int 형으로 변환\n",
    "    temp = int(chatData.get(\"plantData\").get(\"content\").get(\"plantHistory\").get(\"temp\"))\n",
    "    print(\"온도추출값: \", temp)\n",
    "\n",
    "\n",
    "    # notebook.py 파일을 실행\n",
    "    cmd = [\"python\", \"notebook.py\", \"--question\", question, \"--humidity\", str(humidity), \"--temp\", str(temp)]\n",
    "    result = subprocess.run(cmd, capture_output=True, text=True)\n",
    "    \n",
    "    \n",
    "    if result.returncode == 0:\n",
    "        return result.stdout\n",
    "    else:\n",
    "        return f\"에러 발생: {result.stderr}\"\n",
    "\n",
    "\n",
    "\n",
    "\n",
    "#챗봇 라우트\n",
    "@app.route(\"/chat/\", methods=[\"POST\"])\n",
    "def chat():\n",
    "    chatData = request.get_json()\n",
    "    print(type(chatData))\n",
    "    print(chatData)\n",
    "    print(\"\\n\\n1\")\n",
    "    response = AiAnswer(chatData)\n",
    "    print(\"\\n\\n2\")\n",
    "    return jsonify({\"open_ai_message\": response})\n",
    "\n",
    "if __name__ == \"__main__\":\n",
    "    app.run(host=\"0.0.0.0\", debug=True, port=5002)"
   ]
  },
  {
   "cell_type": "code",
   "execution_count": 18,
   "metadata": {},
   "outputs": [
    {
     "data": {
      "text/plain": [
       "'오늘 온도는 딱 좋아! 완전 내 스타일이야~~💚'"
      ]
     },
     "execution_count": 18,
     "metadata": {},
     "output_type": "execute_result"
    }
   ],
   "source": [
    "import subprocess\n",
    "\n",
    "chatdata = {\n",
    "    \"message\": \"지금 온도 어때?\",\n",
    "    \"plantData\": {\n",
    "        \"message\": \"식물과 식물 기록 정보입니다.\",\n",
    "        \"content\": {\n",
    "            \"plant\": {\n",
    "                \"id\": 1,\n",
    "                \"name\": \"알라의 상추\",\n",
    "                \"exp\": 0,\n",
    "                \"level\": 1,\n",
    "                \"plantType\": \"상추\",\n",
    "                \"uuid\": \"5b44da51-62bb-4aa3-8502-4627d3a2354c\",\n",
    "                \"giveWater\": False,\n",
    "                \"createDate\": \"2024-05-18\",\n",
    "            },\n",
    "            \"plantHistory\": {\n",
    "                \"id\": 20,\n",
    "                \"plantId\": 1,\n",
    "                \"temp\": 21,\n",
    "                \"humidity\": 69,\n",
    "                \"soilHumidity\": 310,\n",
    "                \"remainingWater\": 2128,\n",
    "                \"gaveWater\": False,\n",
    "                \"light\": 0,\n",
    "                \"createdDate\": \"2024-05-18T20:57:15.976636\",\n",
    "            },\n",
    "        },\n",
    "    },\n",
    "}\n",
    "\n",
    "def AiAnswer(chatData):\n",
    "    question = chatData.get(\"message\")\n",
    "    humidity = chatData.get(\"plantData\").get(\"content\").get(\"plantHistory\").get(\"humidity\")\n",
    "    temp = chatData.get(\"plantData\").get(\"content\").get(\"plantHistory\").get(\"temp\")\n",
    "\n",
    "    # notebook.py 파일을 실행\n",
    "    cmd = [\"python\", \"notebook.py\", \"--question\", question, \"--humidity\", str(humidity), \"--temp\", str(temp)]\n",
    "    result = subprocess.run(cmd, capture_output=True, text=True)\n",
    "\n",
    "    if result.returncode == 0:\n",
    "        return result.stdout.strip()\n",
    "    else:\n",
    "        return f\"에러 발생: {result.stderr}\"\n",
    "\n",
    "AiAnswer(chatdata)"
   ]
  }
 ],
 "metadata": {
  "kernelspec": {
   "display_name": "langchain",
   "language": "python",
   "name": "python3"
  },
  "language_info": {
   "codemirror_mode": {
    "name": "ipython",
    "version": 3
   },
   "file_extension": ".py",
   "mimetype": "text/x-python",
   "name": "python",
   "nbconvert_exporter": "python",
   "pygments_lexer": "ipython3",
   "version": "3.11.5"
  }
 },
 "nbformat": 4,
 "nbformat_minor": 2
}
