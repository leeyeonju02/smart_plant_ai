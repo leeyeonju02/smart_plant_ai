{
 "cells": [
  {
   "cell_type": "code",
   "execution_count": 6,
   "metadata": {},
   "outputs": [
    {
     "name": "stdout",
     "output_type": "stream",
     "text": [
      " * Serving Flask app '__main__'\n",
      " * Debug mode: off\n"
     ]
    },
    {
     "name": "stderr",
     "output_type": "stream",
     "text": [
      "WARNING: This is a development server. Do not use it in a production deployment. Use a production WSGI server instead.\n",
      " * Running on all addresses (0.0.0.0)\n",
      " * Running on http://127.0.0.1:5000\n",
      " * Running on http://192.168.219.100:5000\n",
      "Press CTRL+C to quit\n",
      "127.0.0.1 - - [18/May/2024 19:50:30] \"POST /chat/ HTTP/1.1\" 200 -\n"
     ]
    },
    {
     "name": "stdout",
     "output_type": "stream",
     "text": [
      "<class 'dict'>\n",
      "{'key': 'test'}\n"
     ]
    }
   ],
   "source": [
    "from flask import Flask, request, jsonify\n",
    "from flask_cors import CORS\n",
    "from flask_cors import cross_origin\n",
    "app = Flask(__name__)\n",
    "CORS(app)\n",
    "\n",
    "\n",
    "\n",
    "@app.route('/create/', methods=['POST'])\n",
    "def create(): \n",
    "    plantData = request.get_json() \n",
    "\n",
    "    print(type(plantData))\n",
    "    return jsonify({\"message\": \"식물데이터를 성공적으로 받았습니다. \"})\n",
    "\n",
    "@app.route('/chat/', methods=['POST'])\n",
    "def chat(): \n",
    "    chatData = request.get_json()\n",
    "    print(type(chatData))\n",
    "    print(chatData)\n",
    "    return jsonify({\"open_ai_message\": \"답변 도착\"})\n",
    "\n",
    "if __name__ == '__main__':\n",
    "    app.run(host='0.0.0.0')\n",
    "\n"
   ]
  }
 ],
 "metadata": {
  "kernelspec": {
   "display_name": "langchain",
   "language": "python",
   "name": "python3"
  },
  "language_info": {
   "codemirror_mode": {
    "name": "ipython",
    "version": 3
   },
   "file_extension": ".py",
   "mimetype": "text/x-python",
   "name": "python",
   "nbconvert_exporter": "python",
   "pygments_lexer": "ipython3",
   "version": "3.11.9"
  }
 },
 "nbformat": 4,
 "nbformat_minor": 2
}
