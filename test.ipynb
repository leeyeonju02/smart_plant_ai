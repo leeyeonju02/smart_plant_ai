{
 "cells": [
  {
   "cell_type": "code",
   "execution_count": 17,
   "metadata": {},
   "outputs": [
    {
     "name": "stdout",
     "output_type": "stream",
     "text": [
      " * Serving Flask app '__main__'\n",
      " * Debug mode: off\n"
     ]
    },
    {
     "name": "stderr",
     "output_type": "stream",
     "text": [
      "WARNING: This is a development server. Do not use it in a production deployment. Use a production WSGI server instead.\n",
      " * Running on all addresses (0.0.0.0)\n",
      " * Running on http://127.0.0.1:5000\n",
      " * Running on http://192.168.35.55:5000\n",
      "Press CTRL+C to quit\n"
     ]
    }
   ],
   "source": [
    "from flask import Flask, request, jsonify\n",
    "from flask_cors import CORS\n",
    "import subprocess\n",
    "\n",
    "app = Flask(__name__)\n",
    "CORS(app)\n",
    "\n",
    "#AI 답변 함수\n",
    "def AiAnswer(chatData):\n",
    "  \n",
    "    question = chatData.get(\"message\")\n",
    "    print(\"질문추출값: \", question)\n",
    "    humidity = int(chatData.get(\"plantData\").get(\"content\").get(\"plantHistory\").get(\"humidity\"))\n",
    "    #int 형으로 변환\n",
    "    temp = int(chatData.get(\"plantData\").get(\"content\").get(\"plantHistory\").get(\"temp\"))\n",
    "    print(\"온도추출값: \", temp)\n",
    "\n",
    "\n",
    "    # notebook.py 파일을 실행\n",
    "    cmd = [\"python\", \"notebook.py\", \"--question\", question, \"--humidity\", str(humidity), \"--temp\", str(temp)]\n",
    "    result = subprocess.run(cmd, capture_output=True, text=True)\n",
    "    \n",
    "    \n",
    "    if result.returncode == 0:\n",
    "        return result.stdout\n",
    "    else:\n",
    "        return f\"에러 발생: {result.stderr}\"\n",
    "\n",
    "\n",
    "\n",
    "\n",
    "#챗봇 라우트\n",
    "@app.route(\"/chat/\", methods=[\"POST\"])\n",
    "def chat():\n",
    "    chatData = request.get_json()\n",
    "    print(type(chatData))\n",
    "    print(chatData)\n",
    "    print(\"\\n\\n1\")\n",
    "    response = AiAnswer(chatData)\n",
    "    print(\"\\n\\n2\")\n",
    "    return jsonify({\"open_ai_message\": response})\n",
    "\n",
    "if __name__ == \"__main__\":\n",
    "    app.run(host=\"0.0.0.0\")"
   ]
  },
  {
   "cell_type": "code",
   "execution_count": 18,
   "metadata": {},
   "outputs": [
    {
     "data": {
      "text/plain": [
       "'오늘 온도는 딱 좋아! 완전 내 스타일이야~~💚'"
      ]
     },
     "execution_count": 18,
     "metadata": {},
     "output_type": "execute_result"
    }
   ],
   "source": [
    "import subprocess\n",
    "\n",
    "chatdata = {\n",
    "    \"message\": \"지금 온도 어때?\",\n",
    "    \"plantData\": {\n",
    "        \"message\": \"식물과 식물 기록 정보입니다.\",\n",
    "        \"content\": {\n",
    "            \"plant\": {\n",
    "                \"id\": 1,\n",
    "                \"name\": \"알라의 상추\",\n",
    "                \"exp\": 0,\n",
    "                \"level\": 1,\n",
    "                \"plantType\": \"상추\",\n",
    "                \"uuid\": \"5b44da51-62bb-4aa3-8502-4627d3a2354c\",\n",
    "                \"giveWater\": False,\n",
    "                \"createDate\": \"2024-05-18\",\n",
    "            },\n",
    "            \"plantHistory\": {\n",
    "                \"id\": 20,\n",
    "                \"plantId\": 1,\n",
    "                \"temp\": 21,\n",
    "                \"humidity\": 69,\n",
    "                \"soilHumidity\": 310,\n",
    "                \"remainingWater\": 2128,\n",
    "                \"gaveWater\": False,\n",
    "                \"light\": 0,\n",
    "                \"createdDate\": \"2024-05-18T20:57:15.976636\",\n",
    "            },\n",
    "        },\n",
    "    },\n",
    "}\n",
    "\n",
    "def AiAnswer(chatData):\n",
    "    question = chatData.get(\"message\")\n",
    "    humidity = chatData.get(\"plantData\").get(\"content\").get(\"plantHistory\").get(\"humidity\")\n",
    "    temp = chatData.get(\"plantData\").get(\"content\").get(\"plantHistory\").get(\"temp\")\n",
    "\n",
    "    # notebook.py 파일을 실행\n",
    "    cmd = [\"python\", \"notebook.py\", \"--question\", question, \"--humidity\", str(humidity), \"--temp\", str(temp)]\n",
    "    result = subprocess.run(cmd, capture_output=True, text=True)\n",
    "\n",
    "    if result.returncode == 0:\n",
    "        return result.stdout.strip()\n",
    "    else:\n",
    "        return f\"에러 발생: {result.stderr}\"\n",
    "\n",
    "AiAnswer(chatdata)"
   ]
  }
 ],
 "metadata": {
  "kernelspec": {
   "display_name": "langchain",
   "language": "python",
   "name": "python3"
  },
  "language_info": {
   "codemirror_mode": {
    "name": "ipython",
    "version": 3
   },
   "file_extension": ".py",
   "mimetype": "text/x-python",
   "name": "python",
   "nbconvert_exporter": "python",
   "pygments_lexer": "ipython3",
   "version": "3.11.9"
  }
 },
 "nbformat": 4,
 "nbformat_minor": 2
}
